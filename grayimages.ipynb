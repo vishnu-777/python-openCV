{
  "nbformat": 4,
  "nbformat_minor": 0,
  "metadata": {
    "colab": {
      "provenance": [],
      "authorship_tag": "ABX9TyOKOcZkZMcI19Hsuj5JDizf",
      "include_colab_link": true
    },
    "kernelspec": {
      "name": "python3",
      "display_name": "Python 3"
    },
    "language_info": {
      "name": "python"
    }
  },
  "cells": [
    {
      "cell_type": "markdown",
      "metadata": {
        "id": "view-in-github",
        "colab_type": "text"
      },
      "source": [
        "<a href=\"https://colab.research.google.com/github/vishnu-777/python-openCV/blob/main/grayimages.ipynb\" target=\"_parent\"><img src=\"https://colab.research.google.com/assets/colab-badge.svg\" alt=\"Open In Colab\"/></a>"
      ]
    },
    {
      "cell_type": "code",
      "execution_count": 21,
      "metadata": {
        "colab": {
          "base_uri": "https://localhost:8080/",
          "height": 290
        },
        "id": "KKipmfi38ZSn",
        "outputId": "b12ff60e-34d8-418a-87d3-2bcf4b15b1cc"
      },
      "outputs": [
        {
          "output_type": "display_data",
          "data": {
            "text/plain": [
              "<PIL.Image.Image image mode=L size=256x256 at 0x7FB5C2D98790>"
            ],
            "image/png": "[encoded data removed]"
          },
          "metadata": {}
        },
        {
          "output_type": "stream",
          "name": "stdout",
          "text": [
            "(256, 256)\n"
          ]
        }
      ],
      "source": [
        "import numpy as np\n",
        "import cv2\n",
        "from google.colab.patches import cv2_imshow\n",
        "img=np.ones((256,256))\n",
        "black=np.zeros((128,128))\n",
        "white=255*np.ones((128,128))\n",
        "gray1=100*np.ones((128,128))\n",
        "gray2=200*np.ones((128,128))\n",
        "img[0:128,0:128]=black\n",
        "img[0:128,128:256]=white\n",
        "img[128:256,0:128]=gray1\n",
        "img[128:256,128:256]=gray2\n",
        "cv2_imshow(img)\n",
        "print(img.shape)"
      ]
    }
  ]
}